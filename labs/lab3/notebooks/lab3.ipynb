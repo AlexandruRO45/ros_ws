{
 "cells": [
  {
   "cell_type": "markdown",
   "metadata": {},
   "source": [
    "# Robotics Foundations (H) - Lab 3\n",
    "\n",
    "## ILOs\n",
    "\n",
    "At the end of the lab, you should be able to:\n",
    "* Use ROS’ motion planning framework, MoveIt\n",
    "* Learn about different planning algorithms via the Open Motion Planning Library (OMPL)\n",
    "* Use MoveIt Python API to move Baxter\n"
   ]
  },
  {
   "cell_type": "markdown",
   "metadata": {},
   "source": [
    "## Introduction\n",
    "### MoveIt!\n",
    "\n",
    "**NOTE: ** If you attended Lecture 5 \"Understanding paths and motions\", skim through this section and start with \"MoveIt! in Action\" below.\n",
    "\n",
    "MoveIt! is a set of tools for robotic manipulation in ROS. The [main web page](http://moveit.ros.org) contains documentation, tutorials, and installation instructions as well as example demonstrations with several [robotic arms (or robots)](http://moveit.ros.org/robots/) that use MoveIt!. These robots include Baxter, Atlas (used by Darpa) and Robonaut (an astronaut robot developed by NASA); all of them free through Gazebo and can be controlled with MoveIt!\n",
    "\n",
    "The library incorporates fast and off-the-shelf inverse kinematics solvers (as part of the motion planning primitives), state-of-the-art algorithms for manipulation, grasping 3D perception (usually in the form of point clouds), kinematics, control, and navigation. The architecture of MoveIt! is shown in the following diagram taken from http://moveit.ros.org/documentation/concepts/. Feel free to read the documentation if you wish, but it is not needed for RF.\n",
    "\n",
    "![moveit_overview.jpg](imgs/moveit_overview.jpg)\n",
    "<div style=\"text-align:center\"><b>Figure 1: MoveIt! System Architecture</b><br></div>\n",
    "\n",
    "### Motion Planning and Kinematics\n",
    "Motion planning deals with the problem of moving the arm to a configuration, allowing you to reach a pose with the end effector without crashing with an obstacle. The MoveIt! user interface will enable you to use different libraries for motion planning, such as OMPL (http://ompl.kavrakilab.org ), using [ROS actions](http://wiki.ros.org/actionlib), or services. ROS actions are similar to services, but actions can take a long time to execute, and you might want to have the ability to cancel a request during execution or get periodic feedback about the progress of the action.\n",
    "\n",
    "In ROS, the pipeline for motion planning is as follows:\n",
    "\n",
    "* A planning request is sent to the motion planning module, which takes care of avoiding collisions (including self-collisions) and finds a trajectory for all the joints that move the arm, so it reaches the goal requested. \n",
    "* Such goal consists of a location in joint space or an end effector pose, which could include an object as well as kinematic constraints, such as position, orientation, and user-specified constraints.\n",
    "* The result of the motion plan is a trajectory that moves the arm to the target goal location. This trajectory also avoids collisions and satisfies the velocity and acceleration constraints at the joint level, so the arm moves smoothly.\n",
    "\n",
    "Forward and Inverse Kinematics are integrated within MoveIt! (i.e. `RobotState` class). For inverse kinematics, MoveIt! provides a default plugin that uses a numerical Jacobian-based solver that is automatically configured by the Setup Assistant - the basis of this assistant is to provide an easy-to-use UI to enable MoveIt! for any robot (you can watch a video tutorial about the assistant here: https://www.youtube.com/watch?v=_5iUDyW3a3A; although it is not required to progress with this lab). As we went over the lecture, you can design a robot and integrate it within MoveIt! given your knowledge of URDF and XACRO! You can also write your inverse kinematic plugin if needed but the default numerical solvers usually are enough."
   ]
  },
  {
   "cell_type": "markdown",
   "metadata": {},
   "source": [
    "## MoveIt! in Action\n",
    "\n",
    "The most simple way to see MoveIt! in action is using its RViz plugin. To do this, open three terminals and do the following, each command in different terminals and press enter sequentially:\n",
    "\n",
    "Terminal 1:\n",
    "``` bash\n",
    "roslaunch baxter_gazebo baxter_world.launch\n",
    "```\n",
    "\n",
    "**Note: Wait until Gazebo is up (e.g. when you see a message in the terminal stating \"Robot is disabled\") to run the following commands.**\n",
    "\n",
    "Terminal 2 (one command at a time):\n",
    "``` bash\n",
    "rosrun baxter_tools enable_robot.py -e\n",
    "rosrun baxter_interface joint_trajectory_action_server.py\n",
    "```\n",
    "\n",
    "Terminal 3:\n",
    "``` bash\n",
    "roslaunch baxter_moveit_config baxter_grippers.launch\n",
    "```\n",
    "\n",
    "**NOTE: We recommend you maximise the RViz window. You can move it to a different Desktop by dragging the RViz window to the right of the desktop until you change to a new Desktop. You can naviagte between Desktops by pressing Ctrl+Alt+Left or Right**\n",
    "\n",
    "`enable_robot.py` tells Baxter to be ready to accept commands; `joint_trajectory_action_server.py` is the controller of (i.e. interface to) the robot. The trajectory action server takes a trajectory as a ROS action goal and executes it. `baxter_grippers.launch` is a launch file that starts RViz with MoveIt! plugin. This launch file is part of `baxter_moveit_config` package which you can get from the official [ROS MoveIt! robots package](https://github.com/ros-planning/moveit_robots). This package is already installed in your `ros_ws` in the virtual machine but if you wish to get it in your PC, clone the repository in `~/ros_ws/src` and then `catkin_make & catkin_make install`. By now, you should have Baxter in RViz, as shown below:\n",
    "\n",
    "![baxter_moveitrviz.png](imgs/baxter_moveitrviz.png)\n",
    "<div style=\"text-align:center\"><b>Figure 2: RViz and MoveIt!</b><br></div>\n",
    "\n",
    "You start playing with the interactive markers on Baxter’s hands and watch the arm move. To do this, press \"Interact\" in the top menu of Rviz; this should be the default. You should see interactive markers appear on the arms - you can interact by clicking the arrows, wheels or sphere; you should see the arm moving as you move your mouse cursor.\n",
    "\n",
    "Now, find the large panel at the bottom left of the screen – this is the MoveIt Rviz Motion Planning Plugin that allows you to test different motion plans. It should have the words OMPL in green – indicating that you are connected to a planning library. You should see something like this:\n",
    "\n",
    "![moveit_plugin.png](imgs/moveit_plugin.png)\n",
    "<div style=\"text-align:center\"><b>Figure 3: MoveIt! plugin enabled</b><br></div>\n",
    "\n",
    "With the MoveIt RViz Motion Planning Plugin (\"MotionPlanning\" pane in Figure 4); let's do the following:\n",
    "\n",
    "* Choose an algorithm from the drop-down menu at he bottom of the green “OMPL” text to specify what type of algorithm you want to use. You can leave it as \"RRTConnectkConfigDefault\" for the moment.\n",
    "* Start configuring the plugin for the Baxter. Expand the “MotionPlanning” section in “Displays.”\n",
    "* Under the Planning Request section, change the \"Planning Group\" to different groups to see how you can control different parts of the robot\n",
    "\n",
    "![boxes.png](imgs/boxes.png)\n",
    "<div style=\"text-align:center\"><b>Figure 4: RViz panels</b><br></div>\n",
    "\n",
    "There are four different visualisations of the robot available (the display states for these visualisations, can be toggled on and off using the checkboxes):\n",
    "\n",
    "* The \"Query Start State\" for motion planning in the “Planning Request” (represented in green).\n",
    "* The \"Query Goal State\" for motion planning in the “Planning Request” (represented in orange).\n",
    "\n",
    "These visualisations are helpful while debugging robot trajectories. Now it is time to interact with Baxter, so:\n",
    "\n",
    "* Press Interact in the top menu of Rviz.\n",
    "* One marker (corresponding to the orange coloured right arm) will be used to set the “Goal State” for motion planning. Another marker corresponding to a green coloured representation of the right arm will be used to set the “Start State” for motion planning. You will be able to use these markers (which are attached to the tip link of each arm) to drag the arm around and change its orientation.\n",
    "* Note what happens when you try to move the arm into collision with itself or the workspace. The two links that are in collision will turn red. The “Use Collision-Aware IK” checkbox in the Motion Planning pane (box below Displays pnae) on the Planning tab (see figure 4) allows you to toggle the behaviour of the IK solver. When the checkbox is ticked, the solver will keep attempting to find a collision-free solution for the desired end-effector pose. When it is unticked, the solver will allow collisions to happen in the solution. The links in collision will always still be visualised in red, regardless of the state of the checkbox.\n",
    "* Note also what happens when you try to move the end-effector out of its reachable workspace.\n",
    "\n",
    "After setting a \"Goal State\" using the interactive markers, you can now plan a motion! To do this, \n",
    "\n",
    "* Make sure that the goal state is not in collision with the robot itself and make sure the \"Show Robot Visual\" in Planned Path is being visualised.\n",
    "* In the Planning tab (bottom left tab), press the Plan button. You should be able to see a visualisation of the arm moving.\n",
    "* Try changing the algorithm being used to solve the motion planning problem (Context tab)\n",
    "\n",
    "Finally, press \"Execute\" in the Planning tab to move the robot! You should see Baxter moving in the simulator. We encourage you to try all the available planning algorithms in the Context tab; it is usual to see the planning animation making Tai-Chi like movements. Robot motion planning is an open research problem, and a solution that works efficiently has yet to be developed!"
   ]
  },
  {
   "cell_type": "markdown",
   "metadata": {},
   "source": [
    "## Using MoveIt in Python\n",
    "\n",
    "To start with, let's import the required libraries (press Ctrl-Enter / Shift-Enter the following cell)"
   ]
  },
  {
   "cell_type": "code",
   "execution_count": null,
   "metadata": {},
   "outputs": [],
   "source": [
    "import sys\n",
    "import copy\n",
    "import rospy\n",
    "import moveit_commander\n",
    "import moveit_msgs.msg\n",
    "import geometry_msgs.msg\n",
    "from std_msgs.msg import String"
   ]
  },
  {
   "cell_type": "markdown",
   "metadata": {},
   "source": [
    "Now, we need to setup `moveit_commander` and init the ROS node. This notebook is serving as ROS node; this is convenient when you want to prototype ROS nodes/scripts."
   ]
  },
  {
   "cell_type": "code",
   "execution_count": null,
   "metadata": {},
   "outputs": [],
   "source": [
    "moveit_commander.roscpp_initialize(sys.argv)\n",
    "rospy.init_node('lab3', anonymous=True)"
   ]
  },
  {
   "cell_type": "markdown",
   "metadata": {},
   "source": [
    "After that, we can now instantiate the different objects required to control Baxter. "
   ]
  },
  {
   "cell_type": "code",
   "execution_count": null,
   "metadata": {},
   "outputs": [],
   "source": [
    "# The \"RobotCommander\" object is an interface to Baxter (or any robot) as a whole.\n",
    "robot = moveit_commander.RobotCommander()\n",
    "\n",
    "# This is an interface to the world surrounding the robot.\n",
    "scene = moveit_commander.PlanningSceneInterface()\n",
    "\n",
    "# This is an interface to one group of joints.  In our case, we want to use the \"right_arm\".\n",
    "#We will use this to plan and execute motions\n",
    "group = moveit_commander.MoveGroupCommander(\"left_arm\")"
   ]
  },
  {
   "cell_type": "markdown",
   "metadata": {},
   "source": [
    "Now, let's explore what MoveIt! has to offer, for instance:"
   ]
  },
  {
   "cell_type": "code",
   "execution_count": null,
   "metadata": {},
   "outputs": [],
   "source": [
    "# This will give you the frame that the robot is attached, for Baxter, this is the \"world\" frame\n",
    "group.get_planning_frame()"
   ]
  },
  {
   "cell_type": "code",
   "execution_count": null,
   "metadata": {},
   "outputs": [],
   "source": [
    "# It is also possible to find out what the end-effector of the robot\n",
    "group.get_end_effector_link()"
   ]
  },
  {
   "cell_type": "markdown",
   "metadata": {},
   "source": [
    "Do check out the MoveIt! [Python API](http://docs.ros.org/kinetic/api/moveit_commander/html/), some functions might come handy during your assessed excercise! For now, let's focus on getting Baxter to move. First, you need to plan for a pose goal (if it fails for some reason, e.g. no plan, just re-run the cell again):"
   ]
  },
  {
   "cell_type": "code",
   "execution_count": null,
   "metadata": {},
   "outputs": [],
   "source": [
    "pose_target = geometry_msgs.msg.Pose()\n",
    "# 3D point and quaternion (same as previous lab, e.g. 0.644, 0.0, 0.0 for XYZ and\n",
    "# -0.381, 0.923, -0.015, 0.052 for the XYZW components of the quaternion).\n",
    "# NOTE: This point might fail if it is close or in the box! Choose a different point if that's the case\n",
    "\n",
    "# pose_target is initialised with zeros in all entries so let's popualate the quaternion\n",
    "pose_target.orientation.x = -0.381\n",
    "pose_target.orientation.y = 0.923\n",
    "pose_target.orientation.z = -0.015\n",
    "pose_target.orientation.w = 0.052\n",
    "\n",
    "\n",
    "pose_target.position.x = 0.644\n",
    "pose_target.position.y = 0.0\n",
    "pose_target.position.z = 0.0\n",
    "\n",
    "# Now, add your Pose msg to the group's pose target\n",
    "group.set_pose_target(pose_target)\n",
    "\n",
    "# and compute the plan!\n",
    "plan = group.plan()\n",
    "print(plan)"
   ]
  },
  {
   "cell_type": "markdown",
   "metadata": {},
   "source": [
    "If you missed the plan in RViz, check the box for \"Loop Animation\" in the Planned Path list, Displays pane. The computed plan will be from the starting pose (i.e. the current state of the robot) to the goal pose we have set above. To execute the plan, run the following (keep an eye on RViz and Gazebo to see the actual execution!):"
   ]
  },
  {
   "cell_type": "code",
   "execution_count": null,
   "metadata": {},
   "outputs": [],
   "source": [
    "ret = group.execute(plan)"
   ]
  },
  {
   "cell_type": "markdown",
   "metadata": {},
   "source": [
    "and voilà! We got Baxter to move one of its arms! To further your understanding, explore different 3D points and orientations by changing the Pose values above.\n",
    "\n",
    "You can now make Baxter move along a set of points using MoveIt! For this, you will use the \"[Cartesian Paths](http://moveit.ros.org/moveit!/ros/2015/01/29/new-capabilities-in-moveit-the-cartesian-path-planner-plugin.html)\" capabilities of MoveIt! These allow you to plan a path by specifying a list of waypoints for the end-effector to go through. To demonstrate the latter, let's define 3 waypoints, plan and then execute:"
   ]
  },
  {
   "cell_type": "code",
   "execution_count": null,
   "metadata": {},
   "outputs": [],
   "source": [
    "waypoints = []\n",
    "\n",
    "# start with the current pose\n",
    "waypoints.append(group.get_current_pose().pose)\n",
    "\n",
    "# first orient gripper and move forward (+x)\n",
    "wpose = geometry_msgs.msg.Pose()\n",
    "wpose.orientation.w = 1.0\n",
    "wpose.position.x = waypoints[0].position.x + 0.1\n",
    "wpose.position.y = waypoints[0].position.y\n",
    "wpose.position.z = waypoints[0].position.z\n",
    "waypoints.append(copy.deepcopy(wpose))\n",
    "\n",
    "# second move down\n",
    "wpose.position.z -= 0.10\n",
    "waypoints.append(copy.deepcopy(wpose))\n",
    "\n",
    "# third move to the side\n",
    "wpose.position.y += 0.05\n",
    "waypoints.append(copy.deepcopy(wpose))\n",
    "\n",
    "# The cartesian path will be interpolated at a resolution of 1 cm (i.e. 0.01 as the second argument below\n",
    "# for the end-effector. The third argument is to disable the \"jump threshold\" see:\n",
    "# http://docs.ros.org/kinetic/api/moveit_commander/html/classmoveit__commander_1_1move__group_1_1MoveGroupCommander.html#a4a3cfd21dd94bcc6991797e474c4d7f3\n",
    "(plan_cartesian, fraction) = group.compute_cartesian_path(waypoints, 0.01, 0.0)\n",
    "\n",
    "# If everything worked out fine, execute the above plan!\n",
    "group.execute(plan_cartesian)"
   ]
  },
  {
   "cell_type": "markdown",
   "metadata": {},
   "source": [
    "### Challenge!\n",
    "\n",
    "Can you make Baxter say hello using the above code? Repurpose the code above and define more waypoints to get Baxter to wave one of its arms. You can also create a ROS package and create a new ROS node if you do not want to use jupyter. You can now command Baxter to whatever you want! If you create a ROS package, remember to create a new package at `~/rf_ws/src`, run `catkin_make` and source your RF workspace before running your node!\n",
    "\n",
    "**NOTE: This is not an assessed exercise, this is to improve your learning and understanding of MoveIt! However, we suggest you giving it a try as this will serve as the basis for the assessed excercise, and to practice you knoweldge of ROS**\n",
    "\n",
    "You can look at a possible solution in `~/Desktop/RFLabs/lab3/lab3_pkg/src/`. This code makes Baxter move both arms."
   ]
  }
 ],
 "metadata": {
  "kernelspec": {
   "display_name": "Python 2",
   "language": "python",
   "name": "python2"
  },
  "language_info": {
   "codemirror_mode": {
    "name": "ipython",
    "version": 2
   },
   "file_extension": ".py",
   "mimetype": "text/x-python",
   "name": "python",
   "nbconvert_exporter": "python",
   "pygments_lexer": "ipython2",
   "version": "2.7.17"
  }
 },
 "nbformat": 4,
 "nbformat_minor": 2
}
