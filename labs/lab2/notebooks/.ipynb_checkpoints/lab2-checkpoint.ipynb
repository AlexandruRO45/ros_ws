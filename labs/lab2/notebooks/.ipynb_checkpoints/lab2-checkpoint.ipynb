{
 "cells": [
  {
   "cell_type": "markdown",
   "metadata": {},
   "source": [
    "# Robotics Foundations (H) - Lab 2\n",
    "\n",
    "## ILOs\n",
    "In this week's lab, you will understand what's behind the Baxter robot (Figure 1) simulation and how its kinematic transformations are maintained. The Baxter robot is an industrial robot built by Rethink Robotics. It has two arms and is intended for use in manufacturing production lines. In this lab, you will:\n",
    "\n",
    "* Understand how ROS handles coordinate transformations and how this translates into a robot (ref. Lecture 3)\n",
    "* Understand the Unified Robot Description Format (URDF) and XML macros (aka XACRO) (ref. Lecture 4)\n",
    "\n",
    "![baxter_glasgow.png](imgs/baxter_glasgow.jpg)\n",
    "<div style=\"text-align:center\"><b>Figure 1: The Baxter robot</b><br></div>"
   ]
  },
  {
   "cell_type": "markdown",
   "metadata": {},
   "source": [
    "## Coordinate Transforms in ROS\n",
    "As in the lecture, coordinate frame transformations are fundamental to robotics. For articulated robot arms, you can deduce the forward and inverse kinematics to compute gripper poses as a function of joint angles or vice-versa. The latter is possible by multiplying transformations describing the current state of the robot. Sensor data, e.g. from cameras, can be merged into the robot's coordinate frame, and this data must be interpreted in terms of alternative frames (e.g. world frame or robot frame) to allow a robot to perceive and act within the environment. \n",
    "\n",
    "ROS provides a useful package for handling, maintaining and updating these transformations. This package is [tf](http://wiki.ros.org/tf) and offers command-line tools for inspecting transformations of a robot. TF also provides APIs in ROS's supported programming languages to manipulate and plan movements with robots. \n",
    "\n",
    "To find out how to use TF, let's start Gazebo and bring up a robot (Baxter) by typing in the terminal (you can find a terminal shortcut in the Desktop):\n",
    "\n",
    "```bash\n",
    "roslaunch baxter_gazebo baxter_world.launch\n",
    "```\n",
    "\n",
    "Baxter has several ROS topics being published, including the topic for transformations \"tf\". Press Ctrl+Enter to run the following command which will print information about the \"tf\" topic:"
   ]
  },
  {
   "cell_type": "code",
   "execution_count": null,
   "metadata": {},
   "outputs": [],
   "source": [
    "%%bash\n",
    "source ~/ros_ws/devel/setup.bash\n",
    "rostopic info tf"
   ]
  },
  {
   "cell_type": "markdown",
   "metadata": {},
   "source": [
    "To find more about `rostopic`, [go here!](http://wiki.ros.org/rostopic). You will find out that `rostopic` is a very neat tool for inspecting and getting message types of available topics within a ROS system. The `tf` topic uses messages of type [tf2_msgs/TFMessage](http://docs.ros.org/kinetic/api/tf2_msgs/html/msg/TFMessage.html) which consists of a variable-length array of a [stamped transform](http://docs.ros.org/kinetic/api/geometry_msgs/html/msg/TransformStamped.html) message. ROS does not employ the homogenous 4-by-4 matrix representation covered in the lecture but uses a 3-D vector (equivalent to the fourth column of a 4-by-4 transform for denoting translations) and a [quaternion](http://www.euclideanspace.com/maths/algebra/realNormedAlgebra/quaternions/). The quaternion representation is an alternative to homogenous matrices, have powerful mathematical properties, and avoid several problems while using homogeneous transformations and Euler angles. The quaternion's data structure is more efficient to carry pose information than the homogenous matrix representation. That is, homogenous transformations need 12 floating-point numbers (16 numbers but the last row is always a row vector equal to 0 and the 4th entry equal to 1) as opposed to 7 floating-point numbers when using quaternions. Transform messages also have timestamps, and they explicitly name the child frame and the parent frame (as text strings).\n",
    "\n",
    "In ROS, orientations are commonly expressed as unit quaternions. **However, you do not need to worry about quaternions that much because TF provides functions to transform quaternions into Euler angles and even homogenous transformations!** At this point, it is sufficient to know that there is a correspondence between quaternions and rotation matrices (ROS functions to perform such conversions will be introduced later) and that there are corresponding mathematical operations for coordinate transformations with quaternions.\n",
    "\n",
    "There can be (and typically are) many publishers to the tf topic. Each publisher expresses a transforming relationship, describing a named child frame with respect to a named parent frame - more about this in the following sections. You can now examine the output of the `tf` topic with:"
   ]
  },
  {
   "cell_type": "code",
   "execution_count": null,
   "metadata": {},
   "outputs": [],
   "source": [
    "%%bash\n",
    "source ~/ros_ws/devel/setup.bash\n",
    "rostopic echo /tf -n 1"
   ]
  },
  {
   "cell_type": "markdown",
   "metadata": {},
   "source": [
    "The above command shows all available transformations for Baxter. As stated above, each message has a child and parent frame, which defines the transformation between the given link names. Each link name is a reference frame within the robot. Baxter's frames are defined with respect to a \"world reference frame\", e.g. the 0, 0, 0 coordinate - the origin, and is always defined in the `world` frame in ROS and is the parent to all transformations. To verify this, run in a terminal:\n",
    "\n",
    "``` bash\n",
    "rosrun tf tf_echo /world /base\n",
    "```\n",
    "\n",
    "As you can observe, the transformation between these links is defined at the origin. Another topic of interest is `joint_states`. This topic displays the angular position of Baxter's joints, and this information feeds to TF to compose all transformations between reference frames. `joint_states` lives in a ROS node that maintains a record of the joint states of a robot by either updating values from the motor's sensor readings or in software when there is an open loop control system (i.e. no feedback from motors). To inspect the contents of `joint_states`, press Shift+Enter the following cell:"
   ]
  },
  {
   "cell_type": "code",
   "execution_count": null,
   "metadata": {},
   "outputs": [],
   "source": [
    "%%bash\n",
    "source ~/ros_ws/devel/setup.bash\n",
    "rostopic echo /robot/joint_states -n 1"
   ]
  },
  {
   "cell_type": "markdown",
   "metadata": {},
   "source": [
    "In Baxter, the `joint_states` topic is published in `/robot/joint_states`; the rationale is that topics should be declared within a namespace. In this case, `joint_states` is part of the `robot` namespace (if you run `rostopic list`, you will find out that topics about Baxter are declared using the `robot` namespace). It is recommended to use namespaces in ROS to follow good software engineering practices, and it is convenient when the complexity of the ROS system increases.\n",
    "\n",
    "The above message list the names of Baxter's joints and then the state of each joint in the same order, e.g. the left finger joint of the left gripper, `l_gripper_l_finger_joint`, is `0.0208` radians. These values are needed to compute transformations for link poses for all links defined in Baxter. For instance, the transformation pf Baxter's `head` frame with respect to the `base` frame cannot be computed without knowing the value of the `head_pan` angular position (see list above). To find out the transformation from `base` to `head`, run in a terminal:\n",
    "\n",
    "``` bash\n",
    "rosrun tf tf_echo /base /head\n",
    "```\n",
    "\n",
    "A parent can have multiple children, but a child must have a unique parent, thus generating a hierarchical tree of geometric relationships with respect to this parent frame. In ROS, you can create a `tf_listener` which is typically started as an independent thread. This thread subscribes to the `tf` topic and assembles a kinematic tree from individual parent-child transform messages. Since the `tf_listener` incorporates all transformations, it can address specific queries, such as *where is Baxter's right-hand finger frame relative to Baxter's head?”* The reply to this query is a transform message that can be used to reconcile different frames. As long as a complete tree connecting frames is published, the transform listener can be used to transform all available kinematic, sensor, etc. data into a common reference frame, thus allowing to display the data from multiple sources in a common frame.\n",
    "\n",
    "To practice the above, let's create a `tf_listener` ROS node. For this, we need to create a ROS package named `lab2_pkg` with `rospy` as a dependency inside `~/workspace/rf_ws` (if you forgot how to create ROS packages, check out Lab 1), create a new ROS node named `tf_listener.py` (e.g. `cd` into your package `src` directory and type `touch tf_listener.py`), and locate the file using the file manager (double-click \"Home\" in the Desktop) and double-click on the file to open it (alternatively, you can right-clicki on `tf_listener.py` and choose VSCode). Then type the following (do not copy-paste the following, aim to type it as it will help you to rationalise the code):\n",
    "\n",
    "``` python\n",
    "#!/usr/bin/env python  \n",
    "import rospy\n",
    "import math\n",
    "\n",
    "# Importing TF to facilitate the task of receiving transformations\n",
    "import tf2_ros\n",
    "\n",
    "if __name__ == '__main__':\n",
    "    rospy.init_node('baxter_tf_listener')\n",
    "\n",
    "    # This creates a transform listener object; once created, it starts receiving\n",
    "    # transformations using the /tf topic and buffers them up for up to 10 seconds.\n",
    "    tfBuffer = tf2_ros.Buffer()\n",
    "    listener = tf2_ros.TransformListener(tfBuffer)\n",
    "\n",
    "    # This is where the magic happens, a query is passed to the listener for the\n",
    "    # /base to /head transform by means of the lookupTransform fn. The arguments are\n",
    "    # from \"this frame\" to \"this frame\" at \"this specific time\"\n",
    "    # (if you pass \"rospy.Time(0), the fn will give you the latest available transform \n",
    "    rate = rospy.Rate(1.0)\n",
    "    while not rospy.is_shutdown():\n",
    "        try:\n",
    "            transformation = tfBuffer.lookup_transform('base', 'head', rospy.Time())\n",
    "        except (tf2_ros.LookupException, tf2_ros.ConnectivityException, tf2_ros.ExtrapolationException):\n",
    "            rate.sleep()\n",
    "            continue\n",
    "\n",
    "        rospy.loginfo(\"Translation: \\n\" + str(transformation.transform.translation))\n",
    "        rospy.loginfo(\"Quaternion: \\n\" + str(transformation.transform.rotation))\n",
    "        \n",
    "        rate.sleep()\n",
    "```\n",
    "\n",
    "Don't forget to make the node executable with `chmod +x tf_listener.py`, `catkin_make` in your `rf_ws` and source your workspace (run `source devel/setup.bash` in `rf_ws`)! The above listener will print the values of the translation and rotation of the transformation between `base` and `head`, every second until you press Ctrl+C. So to run it, type:\n",
    "\n",
    "```bash\n",
    "rosrun lab2_pkg tf_listener.py\n",
    "```\n",
    "\n",
    "You have to wait for a few seconds to start seeing the output of your `tf_listener.py`. [Transforms3d](http://matthew-brett.github.io/transforms3d/) is a very useful Python module that you can use to convert ROS transformations (translation and quaternions) into homogenous matrices, rotation matrices, Roll-Pitch-Yaw angles, etc. This Python module is already installed in the virtual machine! So import the `quaternions` module as `from transforms3d import quaternions` and `numpy` in the `tf_listener.py` ROS node. Now, add the following code above `rate.sleep()` in line 33:\n",
    "\n",
    "``` python\n",
    "q = transformation.transform.rotation\n",
    "quat = (q.x, q.y, q.z, q.w) \n",
    "rot_mat = quaternions.quat2mat(quat)\n",
    "rospy.loginfo(\"Rotation matrix \\n\" + str(rot_mat))\n",
    "\n",
    "H = numpy.eye(4)\n",
    "trans = transformation.transform.translation\n",
    "H[:3,:3] = rot_mat\n",
    "H[:3,3] = [trans.x, trans.y, trans.z]\n",
    "rospy.loginfo(\"Homogenous matrix: \\n\" + str(H))\n",
    "\n",
    "new_quat = quaternions.mat2quat(rot_mat)\n",
    "rospy.loginfo(\"New quaternion: \" + str(new_quat))\n",
    "```\n",
    "\n",
    "and rerun the node (no need to `catkin_make` your workspace; however, if you open a new terminal, remember to source your workspace). The above code demonstrates how to manipulate TF messages into homogeneous coordinates. Feel free to inspect available functions in the [Transforms3d](http://matthew-brett.github.io/transforms3d/), they will become useful when you want to pick up an object using Baxter's grippper, and you need to orient the gripper to grasp the object successfully!"
   ]
  },
  {
   "cell_type": "markdown",
   "metadata": {},
   "source": [
    "## URDF - Unified Robot Description Format\n",
    "Until now, you have been using the Gazebo simulator. Indeed, ROS allows you to use 3D models of a robot - these models usually come from CAD drawings used when designing a robot. Gazebo and RViz employ the [**Unified Robot Description Format**](http://wiki.ros.org/urdf) (URDF) to assemble these CAD files and describe the structure of the robot. That is, URDF is an XML that describes a robot, its parts, its joints, dimensions, and so on. So every time you see a 3D robot in ROS, a URDF file is associated with it. For instance, Baxter's URDF model can be obtained as follows (same as last week lab):"
   ]
  },
  {
   "cell_type": "code",
   "execution_count": null,
   "metadata": {
    "scrolled": false
   },
   "outputs": [],
   "source": [
    "%%bash\n",
    "source ~/ros_ws/devel/setup.bash\n",
    "rosparam get /robot_description"
   ]
  },
  {
   "cell_type": "markdown",
   "metadata": {},
   "source": [
    "URDF files have two key fields that describe the geometry of a robot: `links` and `joints`. As in the previous section, the parent of all links is `base`, and this name must be unique to URDF files:\n",
    "\n",
    "``` xml\n",
    "  <link name=\"base\">\n",
    "  </link>\n",
    "  <link name=\"torso\">\n",
    "    <visual>\n",
    "      <origin rpy=\"0 0 0\" xyz=\"0 0 0\"/>\n",
    "      <geometry>\n",
    "        <mesh filename=\"package://baxter_description/meshes/torso/base_link.DAE\"/>\n",
    "      </geometry>\n",
    "      <material name=\"darkgray\">\n",
    "        <color rgba=\".2 .2 .2 1\"/>\n",
    "      </material>\n",
    "    </visual>\n",
    "    <collision>\n",
    "      <origin rpy=\"0 0 0\" xyz=\"0 0 0\"/>\n",
    "      <geometry>\n",
    "        <mesh filename=\"package://baxter_description/meshes/torso/base_link_collision.DAE\"/>\n",
    "      </geometry>\n",
    "    </collision>\n",
    "    <inertial>\n",
    "      <origin rpy=\"0 0 0\" xyz=\"0.000000 0.000000 0.000000\"/>\n",
    "      <mass value=\"35.336455\"/>\n",
    "      <inertia ixx=\"1.849155\" ixy=\"-0.000354\" ixz=\"-0.154188\" iyy=\"1.662671\" iyz=\"0.003292\" izz=\"0.802239\"/>\n",
    "    </inertial>\n",
    "  </link>\n",
    "```\n",
    "\n",
    "To define what you see in the simulator, we use the `visual` field in the above code. Inside the code, you can define the geometry (cylinder, box, sphere, or mesh), the material (colour or texture), and the origin. In this case, the 3D mesh is a DAE file - DAE files are based on the [XML COLLADA format](https://www.khronos.org/collada/), which is short for Collaborative Design Activity. The code for the joint comes after where it is defined as the name, which must be unique as well. Also, it is defined as the joint type (fixed, revolute, continuous, floating, or planar, ref Lecture 3), and the parent and the child links. For Baxter, the `torso` is a child of `base`, it is set to the origin and is fixed, as shown below:\n",
    "\n",
    "``` xml\n",
    "  <joint name=\"torso_t0\" type=\"fixed\">\n",
    "    <origin rpy=\"0 0 0\" xyz=\"0 0 0\"/>\n",
    "    <parent link=\"base\"/>\n",
    "    <child link=\"torso\"/>\n",
    "  </joint>\n",
    "```\n",
    "\n",
    "URDF files can become quite large, especially for sophisticated robots such as Baxter. Baxter's URDF file has 1851 lines of XML code, where it is defined the robot, simulation parameters, grippers, hardware limits, etc. In RF, you only need to understand the above XML elements to know which link refers to what.\n",
    "\n",
    "You can also use RViz to find out the latter. So, run Baxter's simulation if you don't have it running and type in a terminal:\n",
    "\n",
    "``` bash\n",
    "rosrun rviz rviz\n",
    "```\n",
    "\n",
    "Then, select the `Add` button under the Displays sidebar. In the new window that pops up, scroll to `Robot Model`, and then hit ‘OK’ to add a visual representation of the robot’s current pose. You now need to set the `Fixed Frame` (under `Global Options` to `base`; otherwise you will get a white lump in the middle. In `RobotModel`, expand the tree, and you should see the default parameters; the critical setting here is *Robot Description* which should point to the `robot_description`.\n",
    "\n",
    "![rviz.png](imgs/rviz.png)\n",
    "<div style=\"text-align:center\"><b>Figure 2: RViz</b><br></div>\n",
    "\n",
    "As stated above, you can examine Baxter's links, joints names and states in RViz. To do this, select `Add` and scroll to `TF` and hit `OK` to add a TF visualisation of links. You can deactivate `RobotModel` to have a better view of the links and reference frames, as in the figure below. You can change the `Marker Scale` parameter to make the names more readable. You can also deactivate links, coordinate frames visualisation, etc.; feel free to play with the options as this will come very handy later in the course.\n",
    "\n",
    "![rviz_tf.png](imgs/rviz_tf.png)\n",
    "<div style=\"text-align:center\"><b>Figure 3: Displaying TF plugin in RViz</b><br></div>"
   ]
  },
  {
   "cell_type": "markdown",
   "metadata": {},
   "source": [
    "### XACRO - XML Macros\n",
    "Baxter's URDF file has 1851 lines of code, and imagine adding cameras, sensors and other geometries in it. The file will become quite complex. To minimise its complexity, ROS has the XACRO package which is XML macros and helps in minimising the overall size. XACRO also makes it easier to read and maintain, and allows robotic developers to create modules and reutilise them to create repeated structures for other robotic applications.\n",
    "\n",
    "To use XACRO, it is important to specify a namespace so that the file is parsed correctly. For instance, the namespace for Baxter in the XACRO file is `baxter`, as shown below (Press Ctrl+Enter to evaluate the cell):"
   ]
  },
  {
   "cell_type": "code",
   "execution_count": null,
   "metadata": {},
   "outputs": [],
   "source": [
    "%%bash\n",
    "cd ~/ros_ws/src/baxter/baxter/baxter_common/baxter_description/urdf\n",
    "cat baxter.urdf.xacro | grep \"robot name\""
   ]
  },
  {
   "cell_type": "markdown",
   "metadata": {},
   "source": [
    "One of the most convenient features in XACRO is the ability to declare constant values. Without the use of xacro, it would be almost impossible to maintain changes if you had to change some values. For instance, the constant values defined in Baxter's XACRO file are:"
   ]
  },
  {
   "cell_type": "code",
   "execution_count": null,
   "metadata": {},
   "outputs": [],
   "source": [
    "%%bash\n",
    "cd ~/ros_ws/src/baxter/baxter/baxter_common/baxter_description/urdf\n",
    "cat baxter.urdf.xacro | grep \"default\""
   ]
  },
  {
   "cell_type": "markdown",
   "metadata": {},
   "source": [
    "You can build up arbitrarily complex expressions in the `${}` construct using the four basic operations (`+`, `-`, `*`, `/`). Exponentiation and modulus are, however, not supported. To evaluate constants, use the `${}` construct to evaluate them. Macros are the most useful component of the xacro package and can allow you to separate each robot's component into a well-structured collection of xacro files. In Baxter's main XACRO file, you can see `xacro:include`. This XML tag will indicate the parser to include and read the given file, e.g.:\n",
    "\n",
    "``` xml\n",
    "<!-- Baxter Pedestal -->\n",
    "<xacro:include filename=\"$(find baxter_description)/urdf/baxter_base/baxter_base.urdf.xacro\">\n",
    "    <xacro:arg name=\"gazebo\" value=\"${gazebo}\"/>\n",
    "</xacro:include>\n",
    "\n",
    "<!-- Left End Effector -->\n",
    "<xacro:include filename=\"$(find baxter_description)/urdf/left_end_effector.urdf.xacro\" />\n",
    "```\n",
    "\n",
    "The above shows how to include a XACRO file and how to evaluate constants. Now, let's take a look at `left_end_effector.urdf.xacro`:"
   ]
  },
  {
   "cell_type": "code",
   "execution_count": null,
   "metadata": {},
   "outputs": [],
   "source": [
    "%%bash\n",
    "cd ~/ros_ws/src/baxter/baxter/baxter_common/baxter_description/urdf\n",
    "cat left_end_effector.urdf.xacro"
   ]
  },
  {
   "cell_type": "markdown",
   "metadata": {},
   "source": [
    "The above file includes another xacro file with the macro for Baxter's electric gripper (parametrised with 9 values) and then \"calls\" the macro with the corresponding values for each parameter. To invoke the macro, you need to add the XML tag name right after `xacro`! The definition of this macro is shown below: "
   ]
  },
  {
   "cell_type": "code",
   "execution_count": null,
   "metadata": {},
   "outputs": [],
   "source": [
    "%%bash\n",
    "cd ~/ros_ws/src/baxter/baxter/baxter_common/rethink_ee_description/urdf/electric_gripper\n",
    "cat rethink_electric_gripper.xacro"
   ]
  },
  {
   "cell_type": "markdown",
   "metadata": {},
   "source": [
    "**Note:** If you inspect different Baxter's xacro files, you will find out that macros are scarce and there are several hard-coded variables. Robotic companies usually rely on this to circumvent Open Source licences! Indeed, releasing XACRO/URDF files give away the mechanical design of a robot!\n",
    "\n",
    "To use the `.xacro` file with RViz and Gazebo, you need to convert it to `.urdf`. To do this, you need to execute the following command inside the folder where the main Baxter's xacro file is located in order to compile it as an URDF file. So in a terminal, type:\n",
    "\n",
    "``` bash\n",
    "cd ~/ros_ws/src/baxter/baxter/baxter_common/baxter_description/urdf\n",
    "xacro baxter.urdf.xacro > baxter_lab.urdf\n",
    "```\n",
    "\n",
    "and `baxter_lab.urdf` will be the same as the output you got when running `rosparam get /robot_description` above. You do not need to worry about compil command. `xacro` is invoked every time you start Baxter's simulation!\n",
    "\n",
    "Later in RF labs, you will use XACRO to add a camera sensor, objects and other robotic elements within the simulation and RViz. For now, open the File Manager (there's a shortcut in the Desktop) and navigate to  `~/ros_ws/src/baxter/baxter/baxter_common/baxter_description/urdf`. Open `baxter.urdf.xacro` and `baxter_lab.urdf` and inspect its contents. Pay close attention to the size of the URDF and XACRO files!\n",
    "\n",
    "That's all for this Lab! :)"
   ]
  }
 ],
 "metadata": {
  "kernelspec": {
   "display_name": "Python 2",
   "language": "python",
   "name": "python2"
  },
  "language_info": {
   "codemirror_mode": {
    "name": "ipython",
    "version": 2
   },
   "file_extension": ".py",
   "mimetype": "text/x-python",
   "name": "python",
   "nbconvert_exporter": "python",
   "pygments_lexer": "ipython2",
   "version": "2.7.17"
  }
 },
 "nbformat": 4,
 "nbformat_minor": 2
}
